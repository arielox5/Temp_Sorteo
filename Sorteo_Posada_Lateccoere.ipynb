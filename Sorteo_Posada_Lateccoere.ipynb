{
 "cells": [
  {
   "cell_type": "markdown",
   "metadata": {
    "id": "IxqAWbBUR3pt"
   },
   "source": [
    "## Read Me\n",
    "\n",
    "## Importante\n",
    "\n",
    "- Solamente son 2 inputs (Total_Empleados y Total_Regalos)\n",
    "- Guarda/Descarga la tabla cundo ejecutes Step 2 y 3, porque si vuelves a generar se cambian los resultados\n",
    "- Si despues de correr Step 2 y 3, quedan regalos por asignar, guarda la tabla del step 3 y vuelve a ejecutar step 3, generara unos nuevos resultados con los empleados faltantes"
   ]
  },
  {
   "cell_type": "code",
   "execution_count": null,
   "metadata": {},
   "outputs": [],
   "source": [
    "!pip install pandas"
   ]
  },
  {
   "cell_type": "code",
   "execution_count": null,
   "metadata": {
    "id": "aGvpW1thwBwQ"
   },
   "outputs": [],
   "source": [
    "import pandas as pd\n",
    "import random\n",
    "pd.set_option('display.max_rows', None)"
   ]
  },
  {
   "cell_type": "code",
   "execution_count": 2,
   "metadata": {
    "id": "qQJo8r8-QaN7"
   },
   "outputs": [],
   "source": [
    "def Crear_Lista_Ganadores(input_lista_numero_Emp):\n",
    "  # Asignar números o vacíos a los nombres\n",
    "\n",
    "  for nombre in input_lista_numero_Emp:\n",
    "      if random.random() > 0.5 and Lista_Numero_Regalos:  # 50% probabilidad de asignar un número\n",
    "          Lista_Premio_que_le_toca.append(Lista_Numero_Regalos.pop())  # Tomar un número único y elimina de la lista de numeros disponibles\n",
    "      else:\n",
    "          Lista_Premio_que_le_toca.append(0)  # Dejar vacío"
   ]
  },
  {
   "cell_type": "markdown",
   "metadata": {
    "id": "m82bnyYzwDR2"
   },
   "source": [
    "## Step 1 - Seleccionar el total de empleados registrados y numero de regalos"
   ]
  },
  {
   "cell_type": "code",
   "execution_count": 6,
   "metadata": {
    "id": "N_wLhUFNwNaR"
   },
   "outputs": [],
   "source": [
    "Total_Empleados = 30\n",
    "Total_Regalos = 20"
   ]
  },
  {
   "cell_type": "markdown",
   "metadata": {
    "id": "v7aPOUwwIHPa"
   },
   "source": [
    "## Step 2 - Ejecutar Funcion para obtener los regalos"
   ]
  },
  {
   "cell_type": "code",
   "execution_count": 9,
   "metadata": {
    "colab": {
     "base_uri": "https://localhost:8080/",
     "height": 837
    },
    "id": "plgWShpeNXnj",
    "outputId": "fdb07c61-c287-4ec1-bb66-b2df8c270fe9"
   },
   "outputs": [
    {
     "name": "stdout",
     "output_type": "stream",
     "text": [
      "Total de Premios asignados = 11\n",
      "Total de Premios Restantes de asignar = 9\n"
     ]
    },
    {
     "data": {
      "text/html": [
       "<div>\n",
       "<style scoped>\n",
       "    .dataframe tbody tr th:only-of-type {\n",
       "        vertical-align: middle;\n",
       "    }\n",
       "\n",
       "    .dataframe tbody tr th {\n",
       "        vertical-align: top;\n",
       "    }\n",
       "\n",
       "    .dataframe thead th {\n",
       "        text-align: right;\n",
       "    }\n",
       "</style>\n",
       "<table border=\"1\" class=\"dataframe\">\n",
       "  <thead>\n",
       "    <tr style=\"text-align: right;\">\n",
       "      <th></th>\n",
       "      <th>Empleado</th>\n",
       "      <th>Numero_Regalo</th>\n",
       "    </tr>\n",
       "  </thead>\n",
       "  <tbody>\n",
       "    <tr>\n",
       "      <th>21</th>\n",
       "      <td>1</td>\n",
       "      <td>18</td>\n",
       "    </tr>\n",
       "    <tr>\n",
       "      <th>28</th>\n",
       "      <td>2</td>\n",
       "      <td>13</td>\n",
       "    </tr>\n",
       "    <tr>\n",
       "      <th>19</th>\n",
       "      <td>3</td>\n",
       "      <td>11</td>\n",
       "    </tr>\n",
       "    <tr>\n",
       "      <th>27</th>\n",
       "      <td>8</td>\n",
       "      <td>4</td>\n",
       "    </tr>\n",
       "    <tr>\n",
       "      <th>0</th>\n",
       "      <td>10</td>\n",
       "      <td>12</td>\n",
       "    </tr>\n",
       "    <tr>\n",
       "      <th>5</th>\n",
       "      <td>11</td>\n",
       "      <td>19</td>\n",
       "    </tr>\n",
       "    <tr>\n",
       "      <th>20</th>\n",
       "      <td>13</td>\n",
       "      <td>5</td>\n",
       "    </tr>\n",
       "    <tr>\n",
       "      <th>13</th>\n",
       "      <td>22</td>\n",
       "      <td>6</td>\n",
       "    </tr>\n",
       "    <tr>\n",
       "      <th>23</th>\n",
       "      <td>25</td>\n",
       "      <td>1</td>\n",
       "    </tr>\n",
       "    <tr>\n",
       "      <th>6</th>\n",
       "      <td>26</td>\n",
       "      <td>9</td>\n",
       "    </tr>\n",
       "    <tr>\n",
       "      <th>7</th>\n",
       "      <td>29</td>\n",
       "      <td>17</td>\n",
       "    </tr>\n",
       "  </tbody>\n",
       "</table>\n",
       "</div>"
      ],
      "text/plain": [
       "    Empleado  Numero_Regalo\n",
       "21         1             18\n",
       "28         2             13\n",
       "19         3             11\n",
       "27         8              4\n",
       "0         10             12\n",
       "5         11             19\n",
       "20        13              5\n",
       "13        22              6\n",
       "23        25              1\n",
       "6         26              9\n",
       "7         29             17"
      ]
     },
     "execution_count": 9,
     "metadata": {},
     "output_type": "execute_result"
    }
   ],
   "source": [
    "# Lista de nombres (+ 1 por que cuenta el 0 en Python)\n",
    "Lista_Empleados_en_numero = list(range(1,Total_Empleados + 1))\n",
    "\n",
    "# Numero total de regalos - Crear una lista de números únicos\n",
    "Lista_Numero_Regalos = list(range(1, Total_Regalos + 1))\n",
    "random.shuffle(Lista_Numero_Regalos)  # Mezclar los numeros (para que se aleatorio y no ordenado la entrega)\n",
    "# Mezclar los Empleados (Esto se hace porque si no, por probabilidad los ultimos en la lista tendrian menos probabilidad de ganar,\n",
    "# ya que se irian acabando los regalos a como se van asignando)\n",
    "random.shuffle(Lista_Empleados_en_numero)\n",
    "\n",
    "Lista_Premio_que_le_toca = []\n",
    "\n",
    "Crear_Lista_Ganadores(Lista_Empleados_en_numero)\n",
    "# Crear el DataFrame\n",
    "df_Resultado = pd.DataFrame({'Empleado': Lista_Empleados_en_numero, 'Numero_Regalo': Lista_Premio_que_le_toca})\n",
    "print(\"Total de Premios asignados = \"  + str(Total_Regalos - len(Lista_Numero_Regalos)))\n",
    "print(\"Total de Premios Restantes de asignar = \"  + str(len(Lista_Numero_Regalos)))\n",
    "# Filtrar solo ganadores (Donde el premio sera diferente de 0)\n",
    "df_Resultado[df_Resultado[\"Numero_Regalo\"] != 0].sort_values(by='Empleado')\n"
   ]
  },
  {
   "cell_type": "markdown",
   "metadata": {
    "id": "45ec9EQYRZ5s"
   },
   "source": [
    "## Step 3 - Si quedaron Regalos sin entregar, ejecutar\n",
    "Esto tomara la lista de empleados que no recibieron regalos y la lista de numeros disponibles para entonces asignar un regalo (numero) de manera random de nuevo"
   ]
  },
  {
   "cell_type": "code",
   "execution_count": 10,
   "metadata": {
    "colab": {
     "base_uri": "https://localhost:8080/",
     "height": 460
    },
    "id": "moVAlnr-Oeja",
    "outputId": "b4ac511f-dd7d-4a09-b6f6-14bd5b10a113"
   },
   "outputs": [
    {
     "name": "stdout",
     "output_type": "stream",
     "text": [
      "Total de Premios asignados = 17\n",
      "Total de Premios Restantes de asignar = 3\n"
     ]
    },
    {
     "data": {
      "text/html": [
       "<div>\n",
       "<style scoped>\n",
       "    .dataframe tbody tr th:only-of-type {\n",
       "        vertical-align: middle;\n",
       "    }\n",
       "\n",
       "    .dataframe tbody tr th {\n",
       "        vertical-align: top;\n",
       "    }\n",
       "\n",
       "    .dataframe thead th {\n",
       "        text-align: right;\n",
       "    }\n",
       "</style>\n",
       "<table border=\"1\" class=\"dataframe\">\n",
       "  <thead>\n",
       "    <tr style=\"text-align: right;\">\n",
       "      <th></th>\n",
       "      <th>Empleado</th>\n",
       "      <th>Numero_Regalo</th>\n",
       "    </tr>\n",
       "  </thead>\n",
       "  <tbody>\n",
       "    <tr>\n",
       "      <th>1</th>\n",
       "      <td>14</td>\n",
       "      <td>15</td>\n",
       "    </tr>\n",
       "    <tr>\n",
       "      <th>26</th>\n",
       "      <td>15</td>\n",
       "      <td>16</td>\n",
       "    </tr>\n",
       "    <tr>\n",
       "      <th>14</th>\n",
       "      <td>16</td>\n",
       "      <td>7</td>\n",
       "    </tr>\n",
       "    <tr>\n",
       "      <th>15</th>\n",
       "      <td>17</td>\n",
       "      <td>3</td>\n",
       "    </tr>\n",
       "    <tr>\n",
       "      <th>10</th>\n",
       "      <td>19</td>\n",
       "      <td>2</td>\n",
       "    </tr>\n",
       "    <tr>\n",
       "      <th>9</th>\n",
       "      <td>21</td>\n",
       "      <td>10</td>\n",
       "    </tr>\n",
       "  </tbody>\n",
       "</table>\n",
       "</div>"
      ],
      "text/plain": [
       "    Empleado  Numero_Regalo\n",
       "1         14             15\n",
       "26        15             16\n",
       "14        16              7\n",
       "15        17              3\n",
       "10        19              2\n",
       "9         21             10"
      ]
     },
     "execution_count": 10,
     "metadata": {},
     "output_type": "execute_result"
    }
   ],
   "source": [
    "list_Empleados_Sin_Regalo = df_Resultado[df_Resultado['Numero_Regalo'] == 0]['Empleado']\n",
    "Lista_Premio_que_le_toca = []\n",
    "\n",
    "Crear_Lista_Ganadores(list_Empleados_Sin_Regalo)\n",
    "# Crear el DataFrame\n",
    "df_Resultado = pd.DataFrame({'Empleado': list_Empleados_Sin_Regalo, 'Numero_Regalo': Lista_Premio_que_le_toca})\n",
    "print(\"Total de Premios asignados = \"  + str(Total_Regalos - len(Lista_Numero_Regalos)))\n",
    "print(\"Total de Premios Restantes de asignar = \"  + str(len(Lista_Numero_Regalos)))\n",
    "df_Resultado[df_Resultado['Numero_Regalo'] != 0].sort_values(by='Empleado')"
   ]
  }
 ],
 "metadata": {
  "colab": {
   "provenance": [],
   "toc_visible": true
  },
  "kernelspec": {
   "display_name": "Python 3",
   "name": "python3"
  },
  "language_info": {
   "codemirror_mode": {
    "name": "ipython",
    "version": 3
   },
   "file_extension": ".py",
   "mimetype": "text/x-python",
   "name": "python",
   "nbconvert_exporter": "python",
   "pygments_lexer": "ipython3",
   "version": "3.13.0"
  }
 },
 "nbformat": 4,
 "nbformat_minor": 0
}
